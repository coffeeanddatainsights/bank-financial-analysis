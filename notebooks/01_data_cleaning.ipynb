{
 "cells": [
  {
   "cell_type": "code",
   "execution_count": null,
   "id": "0a640011-d2a3-4b25-9ee4-589ee02dd319",
   "metadata": {},
   "outputs": [],
   "source": [
    "import sys\n",
    "sys.path.append('../src/lib/')   # aggiunge la cartella src al path\n",
    "from utils import *         # importa tutto da utils\n",
    "\n",
    "df = pd.read_csv(\"../data/raw/dataset.csv\")"
   ]
  },
  {
   "cell_type": "code",
   "execution_count": 3,
   "id": "a6e4b107-6bb4-4a98-b851-91e57b7be5aa",
   "metadata": {},
   "outputs": [
    {
     "name": "stdout",
     "output_type": "stream",
     "text": [
      "\n",
      "=== Shape (righe, colonne) ===\n",
      "(523, 11)\n",
      "\n",
      "=== Nomi colonne ===\n",
      "['Date', 'Interest_Income', 'Interest_Expense', 'Average_Earning_Assets', 'Net_Income', 'Total_Assets', 'Shareholder_Equity', 'Operating_Expenses', 'Operating_Income', 'Market_Share', 'Stock_Price']\n",
      "\n",
      "=== Tipi di dato ===\n",
      "Date                       object\n",
      "Interest_Income           float64\n",
      "Interest_Expense            int64\n",
      "Average_Earning_Assets      int64\n",
      "Net_Income                float64\n",
      "Total_Assets                int64\n",
      "Shareholder_Equity          int64\n",
      "Operating_Expenses          int64\n",
      "Operating_Income            int64\n",
      "Market_Share                int64\n",
      "Stock_Price                 int64\n",
      "dtype: object\n",
      "\n",
      "=== Info DataFrame ===\n",
      "<class 'pandas.core.frame.DataFrame'>\n",
      "RangeIndex: 523 entries, 0 to 522\n",
      "Data columns (total 11 columns):\n",
      " #   Column                  Non-Null Count  Dtype  \n",
      "---  ------                  --------------  -----  \n",
      " 0   Date                    523 non-null    object \n",
      " 1   Interest_Income         471 non-null    float64\n",
      " 2   Interest_Expense        523 non-null    int64  \n",
      " 3   Average_Earning_Assets  523 non-null    int64  \n",
      " 4   Net_Income              471 non-null    float64\n",
      " 5   Total_Assets            523 non-null    int64  \n",
      " 6   Shareholder_Equity      523 non-null    int64  \n",
      " 7   Operating_Expenses      523 non-null    int64  \n",
      " 8   Operating_Income        523 non-null    int64  \n",
      " 9   Market_Share            523 non-null    int64  \n",
      " 10  Stock_Price             523 non-null    int64  \n",
      "dtypes: float64(2), int64(8), object(1)\n",
      "memory usage: 45.1+ KB\n",
      "\n",
      "=== Statistiche descrittive (numeriche) ===\n",
      "                        count          mean           std         min  \\\n",
      "Interest_Income         471.0  2.493118e+06  2.927563e+05   2002869.0   \n",
      "Interest_Expense        523.0  8.017749e+05  3.519118e+05    501015.0   \n",
      "Average_Earning_Assets  523.0  5.514196e+07  2.921747e+06  50064323.0   \n",
      "Net_Income              471.0  1.588192e+06  4.808029e+05   1007906.0   \n",
      "Total_Assets            523.0  8.981890e+07  5.615666e+06  80100734.0   \n",
      "Shareholder_Equity      523.0  2.480689e+07  2.867721e+06  20019675.0   \n",
      "Operating_Expenses      523.0  1.095484e+06  2.277105e+05    706530.0   \n",
      "Operating_Income        523.0  4.003112e+06  5.794374e+05   3000159.0   \n",
      "Market_Share            523.0  1.950096e+01  5.734341e+00        10.0   \n",
      "Stock_Price             523.0  1.258948e+02  4.193585e+01        50.0   \n",
      "\n",
      "                               25%         50%         75%         max  \n",
      "Interest_Income          2236190.0   2477095.0   2743213.0   2999890.0  \n",
      "Interest_Expense          614208.5    726156.0    872570.5   2967591.0  \n",
      "Average_Earning_Assets  52606028.0  55238331.0  57715991.0  59993726.0  \n",
      "Net_Income               1261573.5   1558030.0   1793555.5   3999402.0  \n",
      "Total_Assets            84755722.5  89734816.0  94674812.0  99951324.0  \n",
      "Shareholder_Equity      22286423.0  24464344.0  27279528.0  29992154.0  \n",
      "Operating_Expenses        895324.5   1107592.0   1284193.5   1497622.0  \n",
      "Operating_Income         3528300.0   3979947.0   4523654.0   4999284.0  \n",
      "Market_Share                  14.0        20.0        25.0        29.0  \n",
      "Stock_Price                   92.5       123.0       162.0       199.0  \n",
      "\n",
      "=== Prime 5 righe ===\n",
      "         Date  Interest_Income  Interest_Expense  Average_Earning_Assets  \\\n",
      "0  2022-01-03        2121958.0            773237                55001045   \n",
      "1  2022-01-04        2671155.0            518070                54463418   \n",
      "2  2022-01-05        2131932.0            797921                59771802   \n",
      "3  2022-01-06        2365838.0            556958                54345760   \n",
      "4  2022-01-07        2259178.0           1746222                57153768   \n",
      "\n",
      "   Net_Income  Total_Assets  Shareholder_Equity  Operating_Expenses  \\\n",
      "0   1572212.0      95404302            23496605              811672   \n",
      "1   1336326.0      86440010            24948600             1030817   \n",
      "2   1224137.0      88674163            26416438             1345961   \n",
      "3   1452268.0      97221407            29694095             1289921   \n",
      "4   3858336.0      98279553            25311499             1432303   \n",
      "\n",
      "   Operating_Income  Market_Share  Stock_Price  \n",
      "0           3494178            24          128  \n",
      "1           3231496            20           63  \n",
      "2           3692148            22          196  \n",
      "3           4779685            14          177  \n",
      "4           4764985            10          103  \n",
      "\n",
      "=== Ultime 5 righe ===\n",
      "           Date  Interest_Income  Interest_Expense  Average_Earning_Assets  \\\n",
      "518  2023-03-03        2513153.0            551934                55397662   \n",
      "519  2022-08-23              NaN            866329                50421240   \n",
      "520  2022-05-04        2106530.0            736175                51910705   \n",
      "521  2023-01-18        2879989.0            561476                52562469   \n",
      "522  2023-03-23        2811774.0            737027                58204298   \n",
      "\n",
      "     Net_Income  Total_Assets  Shareholder_Equity  Operating_Expenses  \\\n",
      "518   1554736.0      96040922            21265898             1068252   \n",
      "519         NaN      82229180            21551330              921373   \n",
      "520   1331770.0      98827165            29454531              973260   \n",
      "521   1810694.0      83138744            25418952             1141416   \n",
      "522   1793719.0      82627144            22164412             1160244   \n",
      "\n",
      "     Operating_Income  Market_Share  Stock_Price  \n",
      "518           4022145            18          169  \n",
      "519           3842210            23           53  \n",
      "520           3833525            20          123  \n",
      "521           4241968            26          142  \n",
      "522           4478768            14          106  \n"
     ]
    }
   ],
   "source": [
    "# 0. Overview\n",
    "check_df_info(df)"
   ]
  },
  {
   "cell_type": "code",
   "execution_count": 4,
   "id": "7c935570-487d-4d88-986d-dd0ff80741b2",
   "metadata": {},
   "outputs": [],
   "source": [
    "# 1. Gestione Nomi Colonne\n",
    "df.columns = df.columns.str.strip().str.lower().str.replace(\" \", \"_\")"
   ]
  },
  {
   "cell_type": "code",
   "execution_count": null,
   "id": "048f8cb2-a044-4117-8371-6b4b9e37b150",
   "metadata": {},
   "outputs": [],
   "source": [
    "# 2. Gestione Valori Mancanti\n",
    "\n",
    "# Rimuovo righe e colonne completamente vuote\n",
    "df = df.dropna(how='all')\n",
    "df = df.dropna(axis=1, how='all')\n",
    "\n",
    "\n",
    "# Gestione NaN, e \"celle\" vuote \n",
    "numeric_cols = df.select_dtypes(include='number').columns  # Numeriche\n",
    "\n",
    "for col in numeric_cols:\n",
    "    df[col] =  df[col].interpolate().fillna(0)\n",
    "\n",
    "df['date'] = pd.to_datetime(df['date'], errors='coerce')\n",
    "df = df.dropna(subset=['date'])  # elimina righe senza data valida\n",
    "\n",
    "df['date'] =  df['date'].fillna('N/A')\n",
    "    "
   ]
  },
  {
   "cell_type": "code",
   "execution_count": null,
   "id": "6d5af359-b72f-42fc-9fc7-8b417aeb25ce",
   "metadata": {},
   "outputs": [],
   "source": [
    "# 3. Controllo Tipi Dato\n",
    "\n",
    "df['date'] = pd.to_datetime(df['date'])\n",
    "\n",
    "for num in numeric_cols:\n",
    "    df[num] = pd.to_numeric(df[num], errors='coerce')"
   ]
  },
  {
   "cell_type": "code",
   "execution_count": null,
   "id": "c3311f39-ba93-465d-8f5b-f35ee96815e9",
   "metadata": {},
   "outputs": [],
   "source": [
    "# 4. Gestione Duplicati\n",
    "df = df.drop_duplicates()"
   ]
  },
  {
   "cell_type": "code",
   "execution_count": null,
   "id": "4394a76d-ebda-4264-acd5-ee0787e58b86",
   "metadata": {},
   "outputs": [],
   "source": [
    "# 5. Ordinamento temporale \n",
    "df = df.sort_values('date').reset_index(drop=True)"
   ]
  },
  {
   "cell_type": "code",
   "execution_count": null,
   "id": "b838a8b9-21bf-4e5b-a27c-ed970b756c1e",
   "metadata": {},
   "outputs": [],
   "source": [
    "# dataset_clean.csv\n",
    "df.to_csv('../data/processed/dataset_clean.csv', index=False)"
   ]
  }
 ],
 "metadata": {
  "kernelspec": {
   "display_name": "Python 3 (ipykernel)",
   "language": "python",
   "name": "python3"
  },
  "language_info": {
   "codemirror_mode": {
    "name": "ipython",
    "version": 3
   },
   "file_extension": ".py",
   "mimetype": "text/x-python",
   "name": "python",
   "nbconvert_exporter": "python",
   "pygments_lexer": "ipython3",
   "version": "3.13.5"
  }
 },
 "nbformat": 4,
 "nbformat_minor": 5
}
